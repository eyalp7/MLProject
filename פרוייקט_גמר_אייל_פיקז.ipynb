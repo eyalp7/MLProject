{
  "cells": [
    {
      "cell_type": "markdown",
      "metadata": {
        "id": "oMwTBrVWy7CF"
      },
      "source": [
        "המטרה של פרויקט זה היא סיווג חולי סוכרת עפ\"י פרמטרים שונים הקשורים לבריאות האדם"
      ]
    },
    {
      "cell_type": "markdown",
      "metadata": {
        "id": "cxC8Jrrb0W6c"
      },
      "source": [
        "הספריות שבהן אשתמש במהלך הפרוייקט:"
      ]
    },
    {
      "cell_type": "code",
      "execution_count": null,
      "metadata": {
        "id": "etFkQ14Xzu9s"
      },
      "outputs": [],
      "source": [
        "import matplotlib.pyplot as plt\n",
        "import numpy as np\n",
        "from google.colab import drive\n",
        "from sklearn.neighbors import KNeighborsClassifier\n",
        "from sklearn.model_selection import train_test_split\n",
        "from sklearn.preprocessing import LabelEncoder\n",
        "import pandas as pd\n",
        "from sklearn.metrics import classification_report, confusion_matrix, precision_score, accuracy_score, recall_score\n",
        "from sklearn.linear_model import LogisticRegression\n",
        "from sklearn import svm"
      ]
    },
    {
      "cell_type": "markdown",
      "metadata": {
        "id": "2dZno54Q2U_R"
      },
      "source": [
        "העלאת הנתונים:"
      ]
    },
    {
      "cell_type": "code",
      "execution_count": null,
      "metadata": {
        "id": "W6DeheSI0WQ6"
      },
      "outputs": [],
      "source": [
        "df = pd.read_csv('/content/drive/MyDrive/data/diabetes_prediction_dataset.csv')\n"
      ]
    },
    {
      "cell_type": "markdown",
      "metadata": {
        "id": "PWQnjoGV3zvw"
      },
      "source": [
        "הצגת הנתונים על מנת לנרמל אותם:"
      ]
    },
    {
      "cell_type": "code",
      "execution_count": null,
      "metadata": {
        "colab": {
          "base_uri": "https://localhost:8080/"
        },
        "id": "M12_fYRP2b4M",
        "outputId": "33003366-6c99-479e-c362-623569c6c4f2"
      },
      "outputs": [
        {
          "output_type": "stream",
          "name": "stdout",
          "text": [
            "       gender   age  hypertension  heart_disease smoking_history    bmi  \\\n",
            "0      Female  80.0             0              1           never  25.19   \n",
            "1      Female  54.0             0              0         No Info  27.32   \n",
            "2        Male  28.0             0              0           never  27.32   \n",
            "3      Female  36.0             0              0         current  23.45   \n",
            "4        Male  76.0             1              1         current  20.14   \n",
            "...       ...   ...           ...            ...             ...    ...   \n",
            "99994  Female  36.0             0              0         No Info  24.60   \n",
            "99996  Female   2.0             0              0         No Info  17.37   \n",
            "99997    Male  66.0             0              0          former  27.83   \n",
            "99998  Female  24.0             0              0           never  35.42   \n",
            "99999  Female  57.0             0              0         current  22.43   \n",
            "\n",
            "       HbA1c_level  blood_glucose_level  diabetes  \n",
            "0              6.6                  140         0  \n",
            "1              6.6                   80         0  \n",
            "2              5.7                  158         0  \n",
            "3              5.0                  155         0  \n",
            "4              4.8                  155         0  \n",
            "...            ...                  ...       ...  \n",
            "99994          4.8                  145         0  \n",
            "99996          6.5                  100         0  \n",
            "99997          5.7                  155         0  \n",
            "99998          4.0                  100         0  \n",
            "99999          6.6                   90         0  \n",
            "\n",
            "[96146 rows x 9 columns]\n",
            "                age  hypertension  heart_disease           bmi   HbA1c_level  \\\n",
            "count  96146.000000  96146.000000   96146.000000  96146.000000  96146.000000   \n",
            "mean      41.794326      0.077601       0.040803     27.321461      5.532609   \n",
            "std       22.462948      0.267544       0.197833      6.767716      1.073232   \n",
            "min        0.080000      0.000000       0.000000     10.010000      3.500000   \n",
            "25%       24.000000      0.000000       0.000000     23.400000      4.800000   \n",
            "50%       43.000000      0.000000       0.000000     27.320000      5.800000   \n",
            "75%       59.000000      0.000000       0.000000     29.860000      6.200000   \n",
            "max       80.000000      1.000000       1.000000     95.690000      9.000000   \n",
            "\n",
            "       blood_glucose_level      diabetes  \n",
            "count         96146.000000  96146.000000  \n",
            "mean            138.218231      0.088220  \n",
            "std              40.909771      0.283616  \n",
            "min              80.000000      0.000000  \n",
            "25%             100.000000      0.000000  \n",
            "50%             140.000000      0.000000  \n",
            "75%             159.000000      0.000000  \n",
            "max             300.000000      1.000000  \n",
            "<class 'pandas.core.frame.DataFrame'>\n",
            "Int64Index: 96146 entries, 0 to 99999\n",
            "Data columns (total 9 columns):\n",
            " #   Column               Non-Null Count  Dtype  \n",
            "---  ------               --------------  -----  \n",
            " 0   gender               96146 non-null  object \n",
            " 1   age                  96146 non-null  float64\n",
            " 2   hypertension         96146 non-null  int64  \n",
            " 3   heart_disease        96146 non-null  int64  \n",
            " 4   smoking_history      96146 non-null  object \n",
            " 5   bmi                  96146 non-null  float64\n",
            " 6   HbA1c_level          96146 non-null  float64\n",
            " 7   blood_glucose_level  96146 non-null  int64  \n",
            " 8   diabetes             96146 non-null  int64  \n",
            "dtypes: float64(3), int64(4), object(2)\n",
            "memory usage: 7.3+ MB\n",
            "None\n",
            "   gender   age  hypertension  heart_disease smoking_history    bmi  \\\n",
            "0  Female  80.0             0              1           never  25.19   \n",
            "1  Female  54.0             0              0         No Info  27.32   \n",
            "2    Male  28.0             0              0           never  27.32   \n",
            "3  Female  36.0             0              0         current  23.45   \n",
            "4    Male  76.0             1              1         current  20.14   \n",
            "\n",
            "   HbA1c_level  blood_glucose_level  diabetes  \n",
            "0          6.6                  140         0  \n",
            "1          6.6                   80         0  \n",
            "2          5.7                  158         0  \n",
            "3          5.0                  155         0  \n",
            "4          4.8                  155         0  \n"
          ]
        }
      ],
      "source": [
        "#נתונים על מאגר המידע ומחיקת שורות זהות\n",
        "df.drop_duplicates(inplace=True)\n",
        "\n",
        "print(df)\n",
        "print(df.describe())\n",
        "print(df.info())\n",
        "print(df.head())\n"
      ]
    },
    {
      "cell_type": "markdown",
      "metadata": {
        "id": "pnuPEiLh4Ocw"
      },
      "source": [
        "ניתן לראות שחלק מהנתונים הם לא מטיפוס שלם. אנרמל את הנתונים למספרים במקום מחרוזות ואמחק עמודות זהות אם יש"
      ]
    },
    {
      "cell_type": "code",
      "execution_count": null,
      "metadata": {
        "colab": {
          "base_uri": "https://localhost:8080/"
        },
        "id": "NNageKAq2xa4",
        "outputId": "3df6078c-5b46-456a-c1ab-f78c58d0dfbc"
      },
      "outputs": [
        {
          "output_type": "stream",
          "name": "stdout",
          "text": [
            "       gender   age  hypertension  heart_disease  smoking_history    bmi  \\\n",
            "0           0  80.0             0              1                4  25.19   \n",
            "1           0  54.0             0              0                0  27.32   \n",
            "2           1  28.0             0              0                4  27.32   \n",
            "3           0  36.0             0              0                1  23.45   \n",
            "4           1  76.0             1              1                1  20.14   \n",
            "...       ...   ...           ...            ...              ...    ...   \n",
            "99994       0  36.0             0              0                0  24.60   \n",
            "99996       0   2.0             0              0                0  17.37   \n",
            "99997       1  66.0             0              0                3  27.83   \n",
            "99998       0  24.0             0              0                4  35.42   \n",
            "99999       0  57.0             0              0                1  22.43   \n",
            "\n",
            "       HbA1c_level  blood_glucose_level  diabetes  \n",
            "0              6.6                  140         0  \n",
            "1              6.6                   80         0  \n",
            "2              5.7                  158         0  \n",
            "3              5.0                  155         0  \n",
            "4              4.8                  155         0  \n",
            "...            ...                  ...       ...  \n",
            "99994          4.8                  145         0  \n",
            "99996          6.5                  100         0  \n",
            "99997          5.7                  155         0  \n",
            "99998          4.0                  100         0  \n",
            "99999          6.6                   90         0  \n",
            "\n",
            "[96146 rows x 9 columns]\n"
          ]
        }
      ],
      "source": [
        "#המרת מילים למספרים\n",
        "encoder = LabelEncoder()\n",
        "df['gender'] = encoder.fit_transform(df['gender'])\n",
        "df['smoking_history'] = encoder.fit_transform(df['smoking_history'])\n",
        "print(df)\n",
        "\n",
        "\n"
      ]
    },
    {
      "cell_type": "markdown",
      "metadata": {
        "id": "V69fPBHne4UC"
      },
      "source": [
        "עכשיו אבדוק את הקורלציות בין כל הנתונים במאגר"
      ]
    },
    {
      "cell_type": "code",
      "execution_count": null,
      "metadata": {
        "colab": {
          "base_uri": "https://localhost:8080/",
          "height": 331
        },
        "id": "0Y9WzmqTe2Gr",
        "outputId": "bf07bdc0-1c40-41fd-9540-a3a62422d608"
      },
      "outputs": [
        {
          "output_type": "execute_result",
          "data": {
            "text/plain": [
              "                     diabetes\n",
              "diabetes             1.000000\n",
              "blood_glucose_level  0.424336\n",
              "HbA1c_level          0.406408\n",
              "age                  0.264927\n",
              "bmi                  0.214932\n",
              "hypertension         0.195710\n",
              "heart_disease        0.170711\n",
              "smoking_history      0.088471\n",
              "gender               0.037613"
            ],
            "text/html": [
              "\n",
              "  <div id=\"df-f4dc1c22-7699-4c18-b24d-4364bf94aa23\">\n",
              "    <div class=\"colab-df-container\">\n",
              "      <div>\n",
              "<style scoped>\n",
              "    .dataframe tbody tr th:only-of-type {\n",
              "        vertical-align: middle;\n",
              "    }\n",
              "\n",
              "    .dataframe tbody tr th {\n",
              "        vertical-align: top;\n",
              "    }\n",
              "\n",
              "    .dataframe thead th {\n",
              "        text-align: right;\n",
              "    }\n",
              "</style>\n",
              "<table border=\"1\" class=\"dataframe\">\n",
              "  <thead>\n",
              "    <tr style=\"text-align: right;\">\n",
              "      <th></th>\n",
              "      <th>diabetes</th>\n",
              "    </tr>\n",
              "  </thead>\n",
              "  <tbody>\n",
              "    <tr>\n",
              "      <th>diabetes</th>\n",
              "      <td>1.000000</td>\n",
              "    </tr>\n",
              "    <tr>\n",
              "      <th>blood_glucose_level</th>\n",
              "      <td>0.424336</td>\n",
              "    </tr>\n",
              "    <tr>\n",
              "      <th>HbA1c_level</th>\n",
              "      <td>0.406408</td>\n",
              "    </tr>\n",
              "    <tr>\n",
              "      <th>age</th>\n",
              "      <td>0.264927</td>\n",
              "    </tr>\n",
              "    <tr>\n",
              "      <th>bmi</th>\n",
              "      <td>0.214932</td>\n",
              "    </tr>\n",
              "    <tr>\n",
              "      <th>hypertension</th>\n",
              "      <td>0.195710</td>\n",
              "    </tr>\n",
              "    <tr>\n",
              "      <th>heart_disease</th>\n",
              "      <td>0.170711</td>\n",
              "    </tr>\n",
              "    <tr>\n",
              "      <th>smoking_history</th>\n",
              "      <td>0.088471</td>\n",
              "    </tr>\n",
              "    <tr>\n",
              "      <th>gender</th>\n",
              "      <td>0.037613</td>\n",
              "    </tr>\n",
              "  </tbody>\n",
              "</table>\n",
              "</div>\n",
              "      <button class=\"colab-df-convert\" onclick=\"convertToInteractive('df-f4dc1c22-7699-4c18-b24d-4364bf94aa23')\"\n",
              "              title=\"Convert this dataframe to an interactive table.\"\n",
              "              style=\"display:none;\">\n",
              "        \n",
              "  <svg xmlns=\"http://www.w3.org/2000/svg\" height=\"24px\"viewBox=\"0 0 24 24\"\n",
              "       width=\"24px\">\n",
              "    <path d=\"M0 0h24v24H0V0z\" fill=\"none\"/>\n",
              "    <path d=\"M18.56 5.44l.94 2.06.94-2.06 2.06-.94-2.06-.94-.94-2.06-.94 2.06-2.06.94zm-11 1L8.5 8.5l.94-2.06 2.06-.94-2.06-.94L8.5 2.5l-.94 2.06-2.06.94zm10 10l.94 2.06.94-2.06 2.06-.94-2.06-.94-.94-2.06-.94 2.06-2.06.94z\"/><path d=\"M17.41 7.96l-1.37-1.37c-.4-.4-.92-.59-1.43-.59-.52 0-1.04.2-1.43.59L10.3 9.45l-7.72 7.72c-.78.78-.78 2.05 0 2.83L4 21.41c.39.39.9.59 1.41.59.51 0 1.02-.2 1.41-.59l7.78-7.78 2.81-2.81c.8-.78.8-2.07 0-2.86zM5.41 20L4 18.59l7.72-7.72 1.47 1.35L5.41 20z\"/>\n",
              "  </svg>\n",
              "      </button>\n",
              "      \n",
              "  <style>\n",
              "    .colab-df-container {\n",
              "      display:flex;\n",
              "      flex-wrap:wrap;\n",
              "      gap: 12px;\n",
              "    }\n",
              "\n",
              "    .colab-df-convert {\n",
              "      background-color: #E8F0FE;\n",
              "      border: none;\n",
              "      border-radius: 50%;\n",
              "      cursor: pointer;\n",
              "      display: none;\n",
              "      fill: #1967D2;\n",
              "      height: 32px;\n",
              "      padding: 0 0 0 0;\n",
              "      width: 32px;\n",
              "    }\n",
              "\n",
              "    .colab-df-convert:hover {\n",
              "      background-color: #E2EBFA;\n",
              "      box-shadow: 0px 1px 2px rgba(60, 64, 67, 0.3), 0px 1px 3px 1px rgba(60, 64, 67, 0.15);\n",
              "      fill: #174EA6;\n",
              "    }\n",
              "\n",
              "    [theme=dark] .colab-df-convert {\n",
              "      background-color: #3B4455;\n",
              "      fill: #D2E3FC;\n",
              "    }\n",
              "\n",
              "    [theme=dark] .colab-df-convert:hover {\n",
              "      background-color: #434B5C;\n",
              "      box-shadow: 0px 1px 3px 1px rgba(0, 0, 0, 0.15);\n",
              "      filter: drop-shadow(0px 1px 2px rgba(0, 0, 0, 0.3));\n",
              "      fill: #FFFFFF;\n",
              "    }\n",
              "  </style>\n",
              "\n",
              "      <script>\n",
              "        const buttonEl =\n",
              "          document.querySelector('#df-f4dc1c22-7699-4c18-b24d-4364bf94aa23 button.colab-df-convert');\n",
              "        buttonEl.style.display =\n",
              "          google.colab.kernel.accessAllowed ? 'block' : 'none';\n",
              "\n",
              "        async function convertToInteractive(key) {\n",
              "          const element = document.querySelector('#df-f4dc1c22-7699-4c18-b24d-4364bf94aa23');\n",
              "          const dataTable =\n",
              "            await google.colab.kernel.invokeFunction('convertToInteractive',\n",
              "                                                     [key], {});\n",
              "          if (!dataTable) return;\n",
              "\n",
              "          const docLinkHtml = 'Like what you see? Visit the ' +\n",
              "            '<a target=\"_blank\" href=https://colab.research.google.com/notebooks/data_table.ipynb>data table notebook</a>'\n",
              "            + ' to learn more about interactive tables.';\n",
              "          element.innerHTML = '';\n",
              "          dataTable['output_type'] = 'display_data';\n",
              "          await google.colab.output.renderOutput(dataTable, element);\n",
              "          const docLink = document.createElement('div');\n",
              "          docLink.innerHTML = docLinkHtml;\n",
              "          element.appendChild(docLink);\n",
              "        }\n",
              "      </script>\n",
              "    </div>\n",
              "  </div>\n",
              "  "
            ]
          },
          "metadata": {},
          "execution_count": 37
        }
      ],
      "source": [
        "#בודק את הקורלציות בין סוכרת לכל שאר הנתונים\n",
        "df.corr()[['diabetes']].sort_values(by='diabetes', ascending=False)"
      ]
    },
    {
      "cell_type": "code",
      "execution_count": null,
      "metadata": {
        "colab": {
          "base_uri": "https://localhost:8080/",
          "height": 428
        },
        "id": "njGRbfbOouqf",
        "outputId": "daebbaff-e4e6-441c-c25c-490b525e70cb"
      },
      "outputs": [
        {
          "output_type": "display_data",
          "data": {
            "text/plain": [
              "<Figure size 640x480 with 1 Axes>"
            ],
            "image/png": "[encoded data removed]"
          },
          "metadata": {}
        }
      ],
      "source": [
        "male = df[(df['gender'] == 1)]\n",
        "female = df[(df['gender'] == 0)]\n",
        "\n",
        "counts1 = len(male)\n",
        "counts2 = len(female)\n",
        "\n",
        "colors = ['blue', 'red']\n",
        "values = [counts1, counts2]\n",
        "labels = ['male', 'female']\n",
        "\n",
        "\n",
        "def make_autopct(values):\n",
        "    def my_autopct(pct):\n",
        "        total = sum(values)\n",
        "        val = int(round(pct*total/100.0))\n",
        "        return '{p:.2f}%  ({v:d})'.format(p=pct,v=val)\n",
        "    return my_autopct\n",
        "plt.pie(values, labels=labels, colors=colors, autopct=make_autopct(values),  shadow=True)\n",
        "plt.title('gender')\n",
        "plt.show()"
      ]
    },
    {
      "cell_type": "code",
      "execution_count": null,
      "metadata": {
        "colab": {
          "base_uri": "https://localhost:8080/",
          "height": 428
        },
        "id": "yQIIZTI9vXWY",
        "outputId": "ecbaf9c5-e440-49ce-fba3-5157d7da8dc0"
      },
      "outputs": [
        {
          "output_type": "display_data",
          "data": {
            "text/plain": [
              "<Figure size 640x480 with 1 Axes>"
            ],
            "image/png": "[encoded data removed]"
          },
          "metadata": {}
        }
      ],
      "source": [
        "hyp_true = df[(df['hypertension'] == 1)]\n",
        "hyp_false = df[(df['hypertension'] == 0)]\n",
        "\n",
        "counts1 = len(hyp_true)\n",
        "counts2 = len(hyp_false)\n",
        "\n",
        "colors = ['blue', 'red']\n",
        "values = [counts1, counts2]\n",
        "labels = ['True', 'False']\n",
        "def make_autopct(values):\n",
        "    def my_autopct(pct):\n",
        "        total = sum(values)\n",
        "        val = int(round(pct*total/100.0))\n",
        "        return '{p:.2f}%  ({v:d})'.format(p=pct,v=val)\n",
        "    return my_autopct\n",
        "\n",
        "plt.pie(values, labels=labels, colors=colors, autopct=make_autopct(values),  shadow=True)\n",
        "plt.title('HyperTension')\n",
        "plt.show()"
      ]
    },
    {
      "cell_type": "markdown",
      "metadata": {
        "id": "xfi71x7ZdomQ"
      },
      "source": [
        "ניתן לראות שיש קשר בין רמת הגלוקוז ורמת הגלוקוז הממוצעת בחודשים האחרונים לבין סוכרת אך מכיוון שמדדים אלו פעמים רבות הם תסמינים של סוכרת, אני אבדוק את הנתונים האחרונים, ובמיוחד אבדוק כיצד העישון משפיע"
      ]
    },
    {
      "cell_type": "code",
      "execution_count": null,
      "metadata": {
        "colab": {
          "base_uri": "https://localhost:8080/",
          "height": 428
        },
        "id": "RB-CMVZum8NK",
        "outputId": "7c2d4f48-9f1d-461a-e8ce-788b880f4775"
      },
      "outputs": [
        {
          "output_type": "display_data",
          "data": {
            "text/plain": [
              "<Figure size 640x480 with 1 Axes>"
            ],
            "image/png": "[encoded data removed]"
          },
          "metadata": {}
        }
      ],
      "source": [
        "smoking_negative = df[(df['smoking_history'] == 1)& (df['diabetes'] == 0)]\n",
        "smoking_positive = df[(df['smoking_history'] == 1)& (df['diabetes'] == 1)]\n",
        "\n",
        "#סוכם את כל הנתונים\n",
        "counts1 = len(smoking_negative)\n",
        "counts2 = len(smoking_positive)\n",
        "\n",
        "#בחירת כותרות, צבעים וערכים\n",
        "colors = ['blue', 'red']\n",
        "values = [counts1, counts2]\n",
        "labels = ['negative', 'positive']\n",
        "\n",
        "#יוצר תרשים עוגה\n",
        "plt.pie(values, labels=labels, colors=colors, autopct='%1.1f%%', shadow=True)\n",
        "plt.title('Smoking')\n",
        "plt.show()"
      ]
    },
    {
      "cell_type": "markdown",
      "metadata": {
        "id": "YLm84sgB8o30"
      },
      "source": [
        "אבדוק אם יש קשר בין עישון ומחלות לב לסוכרת"
      ]
    },
    {
      "cell_type": "code",
      "execution_count": null,
      "metadata": {
        "colab": {
          "base_uri": "https://localhost:8080/",
          "height": 428
        },
        "id": "CRayO-Dg84oO",
        "outputId": "5cc7fdd8-b856-4c52-cf81-733d234ffc11"
      },
      "outputs": [
        {
          "output_type": "display_data",
          "data": {
            "text/plain": [
              "<Figure size 640x480 with 1 Axes>"
            ],
            "image/png": "[encoded data removed]"
          },
          "metadata": {}
        }
      ],
      "source": [
        "#לוקח מהנתונים את השורות שבהן הנדבק בעל מחלת לב ומעשן קבוע ומחלק אותם לפי סוכרת(חיובי או שלילי)\n",
        "smoking_and_heart_negative = df[(df['smoking_history'] == 1)\n",
        " & (df['heart_disease'] == 1) & (df['diabetes'] == 0)]\n",
        "smoking_and_heart_positive = df[(df['smoking_history'] == 1)\n",
        " & (df['heart_disease'] == 1) & (df['diabetes'] == 1)]\n",
        "\n",
        " #סוכם את כל הנתונים\n",
        "counts1 = len(smoking_and_heart_negative)\n",
        "counts2 = len(smoking_and_heart_positive)\n",
        "\n",
        "#בחירת כותרות, צבעים וערכים\n",
        "colors = ['blue', 'red']\n",
        "values = [counts1 ,counts2]\n",
        "labels = ['negative', 'positive']\n",
        "\n",
        "\n",
        "\n",
        "#יוצר תרשים עוגה\n",
        "plt.pie(values, labels=labels, colors=colors, autopct='%1.1f%%', shadow=True)\n",
        "plt.title('Smoking and heart problems')\n",
        "plt.show()\n",
        "\n",
        "\n",
        "\n"
      ]
    },
    {
      "cell_type": "markdown",
      "metadata": {
        "id": "kli9lHuo8uTW"
      },
      "source": [
        "אבדוק אם יש קשר בין הגיל ועישון לסוכרת"
      ]
    },
    {
      "cell_type": "code",
      "execution_count": null,
      "metadata": {
        "colab": {
          "base_uri": "https://localhost:8080/",
          "height": 428
        },
        "id": "oM4kKDS7Eg-z",
        "outputId": "e2778d09-520a-43a6-bf96-1d10d8dcb7b6"
      },
      "outputs": [
        {
          "output_type": "display_data",
          "data": {
            "text/plain": [
              "<Figure size 640x480 with 1 Axes>"
            ],
            "image/png": "[encoded data removed]"
          },
          "metadata": {}
        }
      ],
      "source": [
        "#לוקח מהנתונים את השורות שבהן הנדבק בעל מחלת לב ולפי קבוצות גיל ומחלק אותם לפי סוכרת(חיובי או שלילי)\n",
        "old_and_smoke_negative = df[(df['age'] > 55) & (df['smoking_history'] == 1)\n",
        " & (df['diabetes'] == 0)]\n",
        "young_and_smoke_negative = df[(df['age'] < 55) & (df['smoking_history'] == 1)\n",
        " & (df['diabetes'] == 0)]\n",
        "old_and_smoke_positive = df[(df['age'] > 55) & (df['smoking_history'] == 1)\n",
        " & (df['diabetes'] == 1)]\n",
        "young_and_smoke_positive = df[(df['age'] < 55) & (df['smoking_history'] == 1)\n",
        " & (df['diabetes'] == 1)]\n",
        "\n",
        "#סוכם את כל הנתונים\n",
        "counts1 = len(old_and_smoke_negative)\n",
        "counts2 = len(old_and_smoke_positive)\n",
        "counts3 = len(young_and_smoke_negative)\n",
        "counts4 = len(young_and_smoke_positive)\n",
        "\n",
        "#בחירת כותרות, צבעים וערכים\n",
        "colors = ['blue', 'red', 'lime', 'yellow']\n",
        "values = [counts1 ,counts2, counts3, counts4]\n",
        "labels = ['old negative', 'old positive', 'young negative', 'young positive']\n",
        "\n",
        "\n",
        "\n",
        "#יוצר תרשים עוגה\n",
        "plt.pie(values, labels=labels, colors=colors, autopct='%1.1f%%', shadow=True)\n",
        "plt.title(\"Smoking and Age\")\n",
        "plt.show()\n"
      ]
    },
    {
      "cell_type": "code",
      "execution_count": null,
      "metadata": {
        "colab": {
          "base_uri": "https://localhost:8080/"
        },
        "id": "vcwoDitS4yro",
        "outputId": "297d2cab-2502-4613-d585-9c5aea0e0aa9"
      },
      "outputs": [
        {
          "output_type": "stream",
          "name": "stdout",
          "text": [
            "       gender     age  hypertension  heart_disease  smoking_history       bmi  \\\n",
            "0         0.0  1.0000           0.0            1.0              0.8  0.263246   \n",
            "1         0.0  0.6750           0.0            0.0              0.0  0.285505   \n",
            "2         0.5  0.3500           0.0            0.0              0.8  0.285505   \n",
            "3         0.0  0.4500           0.0            0.0              0.2  0.245062   \n",
            "4         0.5  0.9500           1.0            1.0              0.2  0.210471   \n",
            "...       ...     ...           ...            ...              ...       ...   \n",
            "99994     0.0  0.4500           0.0            0.0              0.0  0.257080   \n",
            "99996     0.0  0.0250           0.0            0.0              0.0  0.181524   \n",
            "99997     0.5  0.8250           0.0            0.0              0.6  0.290835   \n",
            "99998     0.0  0.3000           0.0            0.0              0.8  0.370154   \n",
            "99999     0.0  0.7125           0.0            0.0              0.2  0.234403   \n",
            "\n",
            "       HbA1c_level  blood_glucose_level  diabetes  \n",
            "0         0.733333             0.466667       0.0  \n",
            "1         0.733333             0.266667       0.0  \n",
            "2         0.633333             0.526667       0.0  \n",
            "3         0.555556             0.516667       0.0  \n",
            "4         0.533333             0.516667       0.0  \n",
            "...            ...                  ...       ...  \n",
            "99994     0.533333             0.483333       0.0  \n",
            "99996     0.722222             0.333333       0.0  \n",
            "99997     0.633333             0.516667       0.0  \n",
            "99998     0.444444             0.333333       0.0  \n",
            "99999     0.733333             0.300000       0.0  \n",
            "\n",
            "[96146 rows x 9 columns]\n"
          ]
        }
      ],
      "source": [
        "for column in df.columns:\n",
        "  #לנרמל את המודל בין 0 ל1\n",
        "    df[column] = df[column] / max(df[column])\n",
        "print(df)"
      ]
    },
    {
      "cell_type": "code",
      "execution_count": null,
      "metadata": {
        "id": "urd1jE4l5BSZ"
      },
      "outputs": [],
      "source": [
        "#מחלק את הנתונים למה שצריך לחזות לפרמטרים הנתונים\n",
        "training_points = df.drop(['diabetes'], axis=1)\n",
        "labels = df['diabetes']\n",
        "\n"
      ]
    },
    {
      "cell_type": "markdown",
      "metadata": {
        "id": "eSxqBtncLeDw"
      },
      "source": [
        "אני אצור פונקציה שמטרתה היא להריץ את המודל מספר פעמים על מנת להשיג את רמת הדיוק הממוצעת של כל מודל"
      ]
    },
    {
      "cell_type": "code",
      "execution_count": null,
      "metadata": {
        "id": "Ql1agEHHvxgz"
      },
      "outputs": [],
      "source": [
        "#רשימות של מדדי הדיוק השונים\n",
        "precision_scores = []\n",
        "accuracy_scores = []\n",
        "recall_scores = []\n",
        "\n",
        "def ModelsAndData(model_name):\n",
        "  #פונקציה המריצה את המודל מס' פעמים, ומדפיסה את הדיוק שלו במדדים שונים\n",
        "\n",
        "    for _ in range(3):\n",
        "      #מחלק לאימון ולחיזוי\n",
        "\n",
        "      X_train, X_test, y_train, y_test = train_test_split(training_points,\n",
        "               labels, test_size=0.2, random_state=42)\n",
        "\n",
        "      #בוחר את סוג המודל ומאמן אותו\n",
        "      if (model_name == 'knn'):\n",
        "        model = KNeighborsClassifier(n_neighbors=17)\n",
        "      if (model_name == 'log_reg'):\n",
        "        model = LogisticRegression(C=0.01)\n",
        "      if (model_name == 'svc'):\n",
        "        model = svm.SVC(kernel='rbf')\n",
        "      model.fit(X_train, y_train)\n",
        "\n",
        "    # חוזה את הנתונים ומוסיפם לממצועי הדיוק\n",
        "      predict = model.predict(X_test)\n",
        "\n",
        "    #מחשב את מדדי הדיוק השונים\n",
        "      precision = precision_score(y_test, predict)\n",
        "      accuracy = accuracy_score(y_test, predict)\n",
        "      recall = recall_score(y_test, predict)\n",
        "\n",
        "#מוסיפם לממוצע\n",
        "      precision_scores.append(precision)\n",
        "      accuracy_scores.append(accuracy)\n",
        "      recall_scores.append(recall)\n",
        "\n",
        "\n",
        "    avg_precision = np.mean(precision_scores)\n",
        "    avg_accuracy = np.mean(accuracy_scores)\n",
        "    avg_recall = np.mean(recall_scores)\n",
        "\n",
        "   #מדפיס את כל הנתונים\n",
        "    print(\"model name: \", model_name ,\n",
        "          \"\\nAverage Precision: \", avg_precision, \"\\nAverage Accuracy: \",\n",
        "          avg_accuracy, \"\\nAverage Recall: \", avg_recall, \"\\n\",\n",
        "          confusion_matrix(y_test, predict), \"\\n\",\n",
        "          classification_report(y_test, predict))\n",
        "\n",
        "\n",
        "\n",
        "\n"
      ]
    },
    {
      "cell_type": "code",
      "execution_count": null,
      "metadata": {
        "colab": {
          "base_uri": "https://localhost:8080/"
        },
        "id": "ExEz3cB_5wCr",
        "outputId": "4d363629-bf68-4ca7-f199-4d1924c38e70"
      },
      "outputs": [
        {
          "output_type": "stream",
          "name": "stdout",
          "text": [
            "model name:  knn \n",
            "Average Precision:  0.9651282051282051 \n",
            "Average Accuracy:  0.9576703068122724 \n",
            "Average Recall:  0.546775130737943 \n",
            " [[17475    34]\n",
            " [  780   941]] \n",
            "               precision    recall  f1-score   support\n",
            "\n",
            "         0.0       0.96      1.00      0.98     17509\n",
            "         1.0       0.97      0.55      0.70      1721\n",
            "\n",
            "    accuracy                           0.96     19230\n",
            "   macro avg       0.96      0.77      0.84     19230\n",
            "weighted avg       0.96      0.96      0.95     19230\n",
            "\n"
          ]
        }
      ],
      "source": [
        "#מריץ את המודל knn\n",
        "ModelsAndData('knn')"
      ]
    },
    {
      "cell_type": "code",
      "execution_count": null,
      "metadata": {
        "colab": {
          "base_uri": "https://localhost:8080/"
        },
        "id": "HHXORkgL6ckz",
        "outputId": "c52e4673-7e3f-4db6-f8da-3e0f6364c12b"
      },
      "outputs": [
        {
          "output_type": "stream",
          "name": "stdout",
          "text": [
            "model name:  log_reg \n",
            "Average Precision:  0.958499931441108 \n",
            "Average Accuracy:  0.9472698907956317 \n",
            "Average Recall:  0.4285299244625218 \n",
            " [[17482    27]\n",
            " [ 1187   534]] \n",
            "               precision    recall  f1-score   support\n",
            "\n",
            "         0.0       0.94      1.00      0.97     17509\n",
            "         1.0       0.95      0.31      0.47      1721\n",
            "\n",
            "    accuracy                           0.94     19230\n",
            "   macro avg       0.94      0.65      0.72     19230\n",
            "weighted avg       0.94      0.94      0.92     19230\n",
            "\n"
          ]
        }
      ],
      "source": [
        "#מריץ את המודל logistic regression\n",
        "ModelsAndData('log_reg')"
      ]
    },
    {
      "cell_type": "code",
      "execution_count": null,
      "metadata": {
        "colab": {
          "base_uri": "https://localhost:8080/"
        },
        "id": "M-2vMH2-6i_3",
        "outputId": "ad34938f-9859-43b5-d863-1d7f396120b7"
      },
      "outputs": [
        {
          "output_type": "stream",
          "name": "stdout",
          "text": [
            "model name:  svc \n",
            "Average Precision:  0.9611010444823772 \n",
            "Average Accuracy:  0.9513260530421217 \n",
            "Average Recall:  0.47453031183420497 \n",
            " [[17475    34]\n",
            " [  746   975]] \n",
            "               precision    recall  f1-score   support\n",
            "\n",
            "         0.0       0.96      1.00      0.98     17509\n",
            "         1.0       0.97      0.57      0.71      1721\n",
            "\n",
            "    accuracy                           0.96     19230\n",
            "   macro avg       0.96      0.78      0.85     19230\n",
            "weighted avg       0.96      0.96      0.95     19230\n",
            "\n"
          ]
        }
      ],
      "source": [
        "# מריץ את המודל svc\n",
        "ModelsAndData('svc')"
      ]
    },
    {
      "cell_type": "code",
      "execution_count": null,
      "metadata": {
        "id": "m7tM3ohHZenL"
      },
      "outputs": [],
      "source": []
    }
  ],
  "metadata": {
    "colab": {
      "provenance": []
    },
    "kernelspec": {
      "display_name": "Python 3",
      "name": "python3"
    },
    "language_info": {
      "name": "python"
    }
  },
  "nbformat": 4,
  "nbformat_minor": 0
}